{
 "cells": [
  {
   "cell_type": "markdown",
   "id": "4d775fec-17c7-47ae-974c-0272b6714355",
   "metadata": {},
   "source": [
    "## Build 99% Confidence Interval Using Sample Standard Deviation"
   ]
  },
  {
   "cell_type": "code",
   "execution_count": 10,
   "id": "430fff72-efa0-410a-a746-6b8cf68e2099",
   "metadata": {},
   "outputs": [
    {
     "name": "stdout",
     "output_type": "stream",
     "text": [
      "Sample mean of the data : 1.2387\n",
      "Sample standard deviation of the data : 0.1932\n",
      "Standard error of the mean : 0.0499\n",
      "T critical value of the data : 2.9768\n",
      "99% Confidence interval of the data using t-distribution : (1.0901973384384906, 1.3871359948948425)\n"
     ]
    }
   ],
   "source": [
    "# Calculating the confidence interval when standard deviation is not given\n",
    "# importing the necessary libraries\n",
    "import numpy as np\n",
    "import scipy.stats as stats\n",
    "\n",
    "# Given data\n",
    "data=np.array([1.13, 1.55, 1.43, 0.92, 1.25, 1.36, 1.32, 0.85, 1.07, 1.48, 1.20, 1.33, 1.18, 1.22, 1.29])\n",
    "\n",
    "# calculating the sample mean,standard deviation and size of the data\n",
    "sample_mean=np.mean(data)\n",
    "sample_std=np.std(data,ddof=1)\n",
    "sample_size=len(data)\n",
    "\n",
    "# calculating the standard error of the mean\n",
    "sem= sample_std/np.sqrt(sample_size)\n",
    "\n",
    "\n",
    "confidence_interval=0.99\n",
    "degrees_of_freedom=sample_size-1\n",
    "# Determining the t value for 99% CI\n",
    "t_critical= stats.t.ppf((confidence_interval+1)/2,degrees_of_freedom)\n",
    "\n",
    "# Calculating the confidence interval\n",
    "margin_of_error=t_critical*sem\n",
    "confidence_interval_t=(sample_mean-margin_of_error,sample_mean+margin_of_error)\n",
    "\n",
    "# Printing the result\n",
    "print(f'Sample mean of the data : {sample_mean:.4f}')\n",
    "print(f'Sample standard deviation of the data : {sample_std:.4f}')\n",
    "print(f'Standard error of the mean : {sem:.4f}')\n",
    "print(f'T critical value of the data : {t_critical:.4f}')\n",
    "print(f'99% Confidence interval of the data using t-distribution : {confidence_interval_t}')"
   ]
  },
  {
   "cell_type": "markdown",
   "id": "3acc8570-1120-4ee7-8d01-1c109b28c4b1",
   "metadata": {},
   "source": [
    "**Explaination**\n",
    "* Sample Mean: The average durability of the sample print-heads.\n",
    "* Sample Standard Deviation: Measures how spread out the durability values are.\n",
    "* SEM: Indicates the variability of the sample mean.\n",
    "* Critical t-value: Corresponds to the 99% confidence level with 14 degrees of freedom.\n",
    "* 99% Confidence Interval: The range within which we are 99% confident the true mean durability lies, based on the sample."
   ]
  },
  {
   "cell_type": "markdown",
   "id": "02dc5891-8215-4170-92ff-8de20b12937b",
   "metadata": {},
   "source": [
    "## Build 99% Confidence Interval Using Known Population Standard Deviation"
   ]
  },
  {
   "cell_type": "code",
   "execution_count": 12,
   "id": "d51e458e-a3b3-49e6-bcef-2960ae4d590c",
   "metadata": {},
   "outputs": [
    {
     "name": "stdout",
     "output_type": "stream",
     "text": [
      "Population standard deviation of the data : 0.2000\n",
      "Standard error of the mean : 0.0516\n",
      "Z critical value of the data : 2.5758\n",
      "99% Confidence interval of the data using z-distribution : (1.1056514133957607, 1.3716819199375725)\n"
     ]
    }
   ],
   "source": [
    "# Calculating the confidence interval when population standard deviation is given\n",
    "population_std=0.2\n",
    "\n",
    "# calculating the standard error of the mean when std is known\n",
    "sem_known= population_std/np.sqrt(sample_size)\n",
    "\n",
    "# calculating the z value\n",
    "confidence_interval=0.99\n",
    "z_critical= stats.norm.ppf((confidence_interval+1)/2)\n",
    "\n",
    "margin_of_error_known= z_critical*sem_known\n",
    "# calculating the confidence inteval\n",
    "confidence_interval_z= (sample_mean-margin_of_error_known, sample_mean+margin_of_error_known)\n",
    "\n",
    "# printing the result\n",
    "print(f'Population standard deviation of the data : {population_std:.4f}')\n",
    "print(f'Standard error of the mean : {sem_known:.4f}')\n",
    "print(f'Z critical value of the data : {z_critical:.4f}')\n",
    "print(f'99% Confidence interval of the data using z-distribution : {confidence_interval_z}')"
   ]
  },
  {
   "cell_type": "markdown",
   "id": "da20f269-06fd-40a6-9ed4-911607273486",
   "metadata": {},
   "source": [
    "**Explaination**\n",
    "* Population Standard Deviation: The known standard deviation for the durability of print-heads.\n",
    "* SEM using Known standard deviation: Indicates the variability of the sample mean using the known population standard deviation.\n",
    "* Critical z-value: Corresponds to the 99% confidence level for the normal distribution.\n",
    "* 99% Confidence Interval: The range within which we are 99% confident the true mean durability lies, given the known population standard deviation."
   ]
  },
  {
   "cell_type": "markdown",
   "id": "08023b23-abc5-41ba-8848-fe94812d2dd1",
   "metadata": {},
   "source": [
    "**Summary:**\n",
    "* Using t-distribution: Appropriate when the population standard deviation is unknown and the sample size is small.\n",
    "* Using z-distribution: Appropriate when the population standard deviation is known."
   ]
  },
  {
   "cell_type": "code",
   "execution_count": null,
   "id": "9a0e7ced-68aa-4925-82f4-141e3e6bd20b",
   "metadata": {},
   "outputs": [],
   "source": []
  }
 ],
 "metadata": {
  "kernelspec": {
   "display_name": "Python 3 (ipykernel)",
   "language": "python",
   "name": "python3"
  },
  "language_info": {
   "codemirror_mode": {
    "name": "ipython",
    "version": 3
   },
   "file_extension": ".py",
   "mimetype": "text/x-python",
   "name": "python",
   "nbconvert_exporter": "python",
   "pygments_lexer": "ipython3",
   "version": "3.12.4"
  }
 },
 "nbformat": 4,
 "nbformat_minor": 5
}
