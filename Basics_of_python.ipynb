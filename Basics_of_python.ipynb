{
 "cells": [
  {
   "cell_type": "markdown",
   "id": "343a8d5b-107e-4855-a565-71108200012d",
   "metadata": {},
   "source": [
    "## 1. Prime Numbers"
   ]
  },
  {
   "cell_type": "code",
   "execution_count": 14,
   "id": "e3a19d3a-8c8e-4275-a9c5-b2e14ae9d4b8",
   "metadata": {},
   "outputs": [
    {
     "name": "stdin",
     "output_type": "stream",
     "text": [
      " 23\n"
     ]
    },
    {
     "data": {
      "text/plain": [
       "True"
      ]
     },
     "execution_count": 14,
     "metadata": {},
     "output_type": "execute_result"
    }
   ],
   "source": [
    "# To check if the given number is prime or not\n",
    "\n",
    "def is_prime(num):\n",
    "    # if number is less than 2, it is not a prime number, returns False\n",
    "    if num<2:\n",
    "        return False\n",
    "    # Checking for the divisibility from 2 to num-1\n",
    "    for i in range(2,num):\n",
    "        if num%i == 0:\n",
    "            # if the number is divisible, then its not a prime number, returns False\n",
    "            # if a number is divisible by any number other than 1 and itself, it's not prime\n",
    "            return False\n",
    "    # No divisors found, Hence it is a prime number, returns True\n",
    "    return True\n",
    "\n",
    "# Taking the input from the user\n",
    "num=int(input())\n",
    "\n",
    "# Calling the function\n",
    "is_prime(num)"
   ]
  },
  {
   "cell_type": "markdown",
   "id": "bd36dbbd-3120-41d4-a099-569001c08f2f",
   "metadata": {},
   "source": [
    "## 2. Product of Random Numbers"
   ]
  },
  {
   "cell_type": "code",
   "execution_count": 4,
   "id": "e611c314-a509-4588-919a-583850834a0e",
   "metadata": {},
   "outputs": [
    {
     "name": "stdin",
     "output_type": "stream",
     "text": [
      "What is the product of 7 * 18 ? 190\n"
     ]
    },
    {
     "name": "stdout",
     "output_type": "stream",
     "text": [
      "Wrong Answer. The correct answer is 126\n"
     ]
    }
   ],
   "source": [
    "# importing the random module \n",
    "import random\n",
    "\n",
    "def prod_random():\n",
    "    # Generating the radom numbers between 1 to 20\n",
    "    num1= random.randint(1,20)\n",
    "    num2= random.randint(1,20)\n",
    "\n",
    "    # Multiplying both the random numbers\n",
    "    correct_ans= num1 * num2\n",
    "\n",
    "    # Asking the user to guess the product of these random numbers\n",
    "    user_input= int(input(f'What is the product of {num1} * {num2} ?'))\n",
    "\n",
    "    # Checking if the user has guessed the correct answer\n",
    "\n",
    "    if correct_ans == user_input:\n",
    "        print(\"Your answer is correct. Great Job!\")\n",
    "    else:\n",
    "        # Display the correct answer \n",
    "        print(f\"Wrong Answer. The correct answer is {correct_ans}\")\n",
    "\n",
    "prod_random()"
   ]
  },
  {
   "cell_type": "markdown",
   "id": "3f3dd74e-73c5-4801-89f4-8f5beb4f62d7",
   "metadata": {},
   "source": [
    "## 3. Squares of Even Numbers"
   ]
  },
  {
   "cell_type": "code",
   "execution_count": 20,
   "id": "f860873e-8de0-4b0b-9b6a-d59f445fc1ba",
   "metadata": {},
   "outputs": [
    {
     "name": "stdout",
     "output_type": "stream",
     "text": [
      "The square of 100 is 10000\n",
      "The square of 102 is 10404\n",
      "The square of 104 is 10816\n",
      "The square of 106 is 11236\n",
      "The square of 108 is 11664\n",
      "The square of 110 is 12100\n",
      "The square of 112 is 12544\n",
      "The square of 114 is 12996\n",
      "The square of 116 is 13456\n",
      "The square of 118 is 13924\n",
      "The square of 120 is 14400\n",
      "The square of 122 is 14884\n",
      "The square of 124 is 15376\n",
      "The square of 126 is 15876\n",
      "The square of 128 is 16384\n",
      "The square of 130 is 16900\n",
      "The square of 132 is 17424\n",
      "The square of 134 is 17956\n",
      "The square of 136 is 18496\n",
      "The square of 138 is 19044\n",
      "The square of 140 is 19600\n",
      "The square of 142 is 20164\n",
      "The square of 144 is 20736\n",
      "The square of 146 is 21316\n",
      "The square of 148 is 21904\n",
      "The square of 150 is 22500\n",
      "The square of 152 is 23104\n",
      "The square of 154 is 23716\n",
      "The square of 156 is 24336\n",
      "The square of 158 is 24964\n",
      "The square of 160 is 25600\n",
      "The square of 162 is 26244\n",
      "The square of 164 is 26896\n",
      "The square of 166 is 27556\n",
      "The square of 168 is 28224\n",
      "The square of 170 is 28900\n",
      "The square of 172 is 29584\n",
      "The square of 174 is 30276\n",
      "The square of 176 is 30976\n",
      "The square of 178 is 31684\n",
      "The square of 180 is 32400\n",
      "The square of 182 is 33124\n",
      "The square of 184 is 33856\n",
      "The square of 186 is 34596\n",
      "The square of 188 is 35344\n",
      "The square of 190 is 36100\n",
      "The square of 192 is 36864\n",
      "The square of 194 is 37636\n",
      "The square of 196 is 38416\n",
      "The square of 198 is 39204\n",
      "The square of 200 is 40000\n"
     ]
    }
   ],
   "source": [
    "# This code prints the square of even numbers in the range 100 to 200\n",
    "# Iterating the numbers from 100 to 200\n",
    "for i in range(100,201):\n",
    "    # Checking if the number is even\n",
    "    if i%2 ==0:\n",
    "        # if even, Calculate the square of that number\n",
    "        square= i**2\n",
    "        # Print the result\n",
    "        print(f\"The square of {i} is {square}\")"
   ]
  },
  {
   "cell_type": "markdown",
   "id": "a8da4fdf-929b-4dfe-b12a-2bbe1541e240",
   "metadata": {},
   "source": [
    "## 4. Word counter"
   ]
  },
  {
   "cell_type": "code",
   "execution_count": 29,
   "id": "6fbbe512-6ee7-4da8-860a-089e43da4de2",
   "metadata": {},
   "outputs": [
    {
     "name": "stdin",
     "output_type": "stream",
     "text": [
      " This is a sample text. This text will be used to demonstrate the word counter.\n"
     ]
    },
    {
     "name": "stdout",
     "output_type": "stream",
     "text": [
      "this = 2\n",
      "is = 1\n",
      "a = 1\n",
      "sample = 1\n",
      "text. = 1\n",
      "text = 1\n",
      "will = 1\n",
      "be = 1\n",
      "used = 1\n",
      "to = 1\n",
      "demonstrate = 1\n",
      "the = 1\n",
      "word = 1\n",
      "counter. = 1\n"
     ]
    }
   ],
   "source": [
    "# Creating the function the count the words in a given statement\n",
    "def word_count(input_text):\n",
    "    # Converting the case to lowercase to make it case insensitive \n",
    "    input_text=input_text.lower()\n",
    "    # Splitting the input into words\n",
    "    words= input_text.split()\n",
    "    # Intializing a dictionary to count the values and keep it in key value pairs\n",
    "    word_cnt={}\n",
    "\n",
    "    # Iterating through each word \n",
    "    for word in words:\n",
    "        # if the word is present in the dictionary already, then increement the count by 1\n",
    "        if word in word_cnt:\n",
    "            word_cnt[word]+=1\n",
    "        else:\n",
    "        # if the word is not present in the dictionary, then add it with the count 1\n",
    "            word_cnt[word]=1\n",
    "\n",
    "    # print each word and its count from the dictionary\n",
    "    for word, count in word_cnt.items():\n",
    "        print(f\"{word} = {count}\")\n",
    "\n",
    "# Take the input from the user\n",
    "input_text=input()\n",
    "# Calling the function \n",
    "word_count(input_text)"
   ]
  },
  {
   "cell_type": "markdown",
   "id": "b3c1c3b7-fbbc-4b56-b01a-9bd69d045d74",
   "metadata": {},
   "source": [
    "## 5. Check for Palindrome"
   ]
  },
  {
   "cell_type": "code",
   "execution_count": 32,
   "id": "bd3c73b4-c0e8-4539-b80d-702458080caf",
   "metadata": {},
   "outputs": [
    {
     "name": "stdin",
     "output_type": "stream",
     "text": [
      " A man, a plan, a canal: Panama\n"
     ]
    },
    {
     "data": {
      "text/plain": [
       "True"
      ]
     },
     "execution_count": 32,
     "metadata": {},
     "output_type": "execute_result"
    }
   ],
   "source": [
    "# importing the string module\n",
    "import string\n",
    "\n",
    "def palindrome(input_string):\n",
    "    # normalising the input strong by removing the spaces, punctuation marks and converting it to lower case\n",
    "    # char.isalnum() checks for alphanumeric character, which effectively removes spaces and punctuation\n",
    "    # join() -> joins the characters into single normalised string\n",
    "    # char.lower()-> converts the characters into lowercase\n",
    "    normalised_string=''.join(char.lower() for char in input_string if char.isalnum())\n",
    "    \n",
    "    # Check if the reverse of the normalised string is equal, is yes return True else False\n",
    "    return normalised_string == normalised_string[::-1]\n",
    "\n",
    "# Taking the input from the user\n",
    "input_string=input()\n",
    "\n",
    "# Calling the function\n",
    "palindrome(input_string)"
   ]
  },
  {
   "cell_type": "code",
   "execution_count": null,
   "id": "236af00b-6963-48ea-9622-2f0dbb207abe",
   "metadata": {},
   "outputs": [],
   "source": []
  }
 ],
 "metadata": {
  "kernelspec": {
   "display_name": "Python 3 (ipykernel)",
   "language": "python",
   "name": "python3"
  },
  "language_info": {
   "codemirror_mode": {
    "name": "ipython",
    "version": 3
   },
   "file_extension": ".py",
   "mimetype": "text/x-python",
   "name": "python",
   "nbconvert_exporter": "python",
   "pygments_lexer": "ipython3",
   "version": "3.12.4"
  }
 },
 "nbformat": 4,
 "nbformat_minor": 5
}
