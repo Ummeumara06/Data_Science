{
 "cells": [
  {
   "cell_type": "markdown",
   "id": "f248f720-7983-4d28-b297-8f8e0b77826b",
   "metadata": {},
   "source": [
    "# Hypothesis Testing"
   ]
  },
  {
   "cell_type": "markdown",
   "id": "225c10e5-4117-4f19-92ca-0cdad42420e5",
   "metadata": {},
   "source": [
    "**Null Hypothesis(H0):** There is no change in the weekly operating costs, and the observed mean cost is consistent with the theoretical model.\n",
    "\n",
    "**Alternate Hypothesis(H1):** The weekly operating costs have increased, as suggested by restaurant owners."
   ]
  },
  {
   "cell_type": "code",
   "execution_count": 3,
   "id": "4f8ee7d1-d8b4-4e91-8d28-2431d566fea8",
   "metadata": {},
   "outputs": [],
   "source": [
    "import math"
   ]
  },
  {
   "cell_type": "code",
   "execution_count": 4,
   "id": "a79cfa8e-4043-4c85-be0d-cac4f694187b",
   "metadata": {},
   "outputs": [
    {
     "name": "stdout",
     "output_type": "stream",
     "text": [
      "T statistics : -38.0\n"
     ]
    }
   ],
   "source": [
    "# assigning the given data\n",
    "x_bar=3050\n",
    "mu= 1000+ 5*600\n",
    "sigma=5*25\n",
    "n=25\n",
    "\n",
    "# calculating the t-value using the formula\n",
    "t_stats= (x_bar-mu)/(sigma/math.sqrt(n))\n",
    "# print the result\n",
    "print(f'T statistics : {t_stats}')"
   ]
  },
  {
   "cell_type": "code",
   "execution_count": 5,
   "id": "edc6ddd5-d585-48b7-b414-6ed415ddd6ee",
   "metadata": {},
   "outputs": [
    {
     "name": "stdout",
     "output_type": "stream",
     "text": [
      "critical value: 1.6448536269514722\n"
     ]
    }
   ],
   "source": [
    "# import stats module\n",
    "from scipy import stats\n",
    "alpha=0.05\n",
    "\n",
    "# finding the critical value from the z distribution table\n",
    "critical_value = stats.norm.ppf(1 - alpha)\n",
    "print(f\"critical value: {critical_value}\")"
   ]
  },
  {
   "cell_type": "code",
   "execution_count": 6,
   "id": "3b903141-8b85-4f3e-af78-1f53564874e6",
   "metadata": {},
   "outputs": [
    {
     "name": "stdout",
     "output_type": "stream",
     "text": [
      "Fail to reject the null Hypothesis, which means there is no change in the weekly operating cost\n"
     ]
    }
   ],
   "source": [
    "# comparing the t value with critical value and finding the result\n",
    "if t_stats> critical_value:\n",
    "    print(\"Reject the null Hypothesis, which means the weekly operating costs have been increased\")\n",
    "else:\n",
    "    print(\"Fail to reject the null Hypothesis, which means there is no change in the weekly operating cost\")"
   ]
  },
  {
   "cell_type": "markdown",
   "id": "27056d9a-f07c-4ec3-b68e-198882d85dee",
   "metadata": {},
   "source": [
    "Inference: The result achieved is to fail to reject the null hypotheis which means that there is no statistically significant evidence to support the claim that the weekly operating costs have increased compared to the theoretical cost model"
   ]
  },
  {
   "cell_type": "markdown",
   "id": "4995749b-e13f-40fc-b0fc-2f10344b3d04",
   "metadata": {},
   "source": [
    "Therefore, the restaurant owners' claim about the increase in operating costs is not supported by the available data, and the existing cost model remains accurate for now."
   ]
  },
  {
   "cell_type": "markdown",
   "id": "4b9b7a03-c1a5-4045-8f72-1ca8cddd2be7",
   "metadata": {},
   "source": [
    "### Chi-Square Test"
   ]
  },
  {
   "cell_type": "markdown",
   "id": "10a644c2-a8a3-49c9-9c29-b516ee25cfc6",
   "metadata": {},
   "source": [
    "**Null Hypothesis (H0):**\n",
    "1. There is no significant association between the type of smart home device purchased (Smart Thermostat vs. Smart Light) and the customer satisfaction level.\n",
    "2. In other words, the customer satisfaction level is independent of the type of device.\n",
    "\n",
    "**Alternative Hypothesis (H1):**\n",
    "\n",
    "1. There is a significant association between the type of smart home device purchased (Smart Thermostat vs. Smart Light) and the customer satisfaction level.\n",
    "2. In other words, the customer satisfaction level is dependent on the type of device."
   ]
  },
  {
   "cell_type": "code",
   "execution_count": 11,
   "id": "fe9dc9af-49ff-4afe-826e-2abab219c3d8",
   "metadata": {},
   "outputs": [
    {
     "data": {
      "text/html": [
       "<div>\n",
       "<style scoped>\n",
       "    .dataframe tbody tr th:only-of-type {\n",
       "        vertical-align: middle;\n",
       "    }\n",
       "\n",
       "    .dataframe tbody tr th {\n",
       "        vertical-align: top;\n",
       "    }\n",
       "\n",
       "    .dataframe thead th {\n",
       "        text-align: right;\n",
       "    }\n",
       "</style>\n",
       "<table border=\"1\" class=\"dataframe\">\n",
       "  <thead>\n",
       "    <tr style=\"text-align: right;\">\n",
       "      <th></th>\n",
       "      <th>Smart Thermostats</th>\n",
       "      <th>Smart Lights</th>\n",
       "    </tr>\n",
       "  </thead>\n",
       "  <tbody>\n",
       "    <tr>\n",
       "      <th>Very Satisfied</th>\n",
       "      <td>50</td>\n",
       "      <td>70</td>\n",
       "    </tr>\n",
       "    <tr>\n",
       "      <th>Satisfied</th>\n",
       "      <td>80</td>\n",
       "      <td>100</td>\n",
       "    </tr>\n",
       "    <tr>\n",
       "      <th>Neutral</th>\n",
       "      <td>60</td>\n",
       "      <td>90</td>\n",
       "    </tr>\n",
       "    <tr>\n",
       "      <th>Unsatisfied</th>\n",
       "      <td>30</td>\n",
       "      <td>50</td>\n",
       "    </tr>\n",
       "    <tr>\n",
       "      <th>Very Unsatisfied</th>\n",
       "      <td>20</td>\n",
       "      <td>50</td>\n",
       "    </tr>\n",
       "  </tbody>\n",
       "</table>\n",
       "</div>"
      ],
      "text/plain": [
       "                  Smart Thermostats  Smart Lights\n",
       "Very Satisfied                   50            70\n",
       "Satisfied                        80           100\n",
       "Neutral                          60            90\n",
       "Unsatisfied                      30            50\n",
       "Very Unsatisfied                 20            50"
      ]
     },
     "execution_count": 11,
     "metadata": {},
     "output_type": "execute_result"
    }
   ],
   "source": [
    "# importing the necessary modules\n",
    "import numpy as np\n",
    "import pandas as pd\n",
    "from scipy.stats import chi2_contingency\n",
    "\n",
    "# given data\n",
    "data=np.array([[50,70],[80, 100], [60, 90], [30, 50], [20, 50]])\n",
    "\n",
    "# forming a dataframe from the given data\n",
    "df=pd.DataFrame(data, columns=['Smart Thermostats','Smart Lights'],index=['Very Satisfied','Satisfied','Neutral','Unsatisfied','Very Unsatisfied'])\n",
    "df"
   ]
  },
  {
   "cell_type": "code",
   "execution_count": 12,
   "id": "8184159f-0c6c-4336-9d05-97f358d68133",
   "metadata": {},
   "outputs": [
    {
     "data": {
      "text/plain": [
       "Chi2ContingencyResult(statistic=5.638227513227513, pvalue=0.22784371130697179, dof=4, expected_freq=array([[ 48.,  72.],\n",
       "       [ 72., 108.],\n",
       "       [ 60.,  90.],\n",
       "       [ 32.,  48.],\n",
       "       [ 28.,  42.]]))"
      ]
     },
     "execution_count": 12,
     "metadata": {},
     "output_type": "execute_result"
    }
   ],
   "source": [
    "# running chi square test and finding the values( chi value, p value, dof-degree of freedom(no_row-1*no_col-1),expected value)\n",
    "val=chi2_contingency(df)\n",
    "val"
   ]
  },
  {
   "cell_type": "code",
   "execution_count": 13,
   "id": "845f1149-753f-456c-b6e1-68ab9dd7b73d",
   "metadata": {},
   "outputs": [
    {
     "name": "stdout",
     "output_type": "stream",
     "text": [
      "Chi-square value: 5.638227513227513\n",
      "p value: 0.22784371130697179\n",
      "Degree of freedom: 4\n",
      "Expected value: [[ 48.  72.]\n",
      " [ 72. 108.]\n",
      " [ 60.  90.]\n",
      " [ 32.  48.]\n",
      " [ 28.  42.]]\n"
     ]
    }
   ],
   "source": [
    "# extracting the calculated values and printing the result\n",
    "chi_stats,pvalue,dof,expected=val[0],val[1],val[2],val[3]\n",
    "print(f'Chi-square value: {chi_stats}')\n",
    "print(f'p value: {pvalue}')\n",
    "print(f'Degree of freedom: {dof}')\n",
    "print(f'Expected value: {expected}')"
   ]
  },
  {
   "cell_type": "code",
   "execution_count": 14,
   "id": "7eafa022-2204-4e6e-8454-eb988f3702d0",
   "metadata": {},
   "outputs": [
    {
     "data": {
      "text/plain": [
       "9.487729036781154"
      ]
     },
     "execution_count": 14,
     "metadata": {},
     "output_type": "execute_result"
    }
   ],
   "source": [
    "from scipy.stats import chi2\n",
    "alpha=0.05\n",
    "# finding the critical value \n",
    "critical_value=chi2.ppf(1-alpha,dof)\n",
    "critical_value"
   ]
  },
  {
   "cell_type": "code",
   "execution_count": 15,
   "id": "341e3b5b-e34f-427b-8817-e47535e47907",
   "metadata": {},
   "outputs": [
    {
     "name": "stdout",
     "output_type": "stream",
     "text": [
      "Fail to reject the null Hypothesis,which means There is no significant association between the type of smart home device purchased (Smart Thermostat vs. Smart Light) and the customer satisfaction level.\n"
     ]
    }
   ],
   "source": [
    "# comparing the chi value with the critical value \n",
    "if chi_stats>critical_value:\n",
    "    print('Reject the null Hypothesis, which means There is a significant association between the type of smart home device purchased (Smart Thermostat vs. Smart Light) and the customer satisfaction level.')\n",
    "else:\n",
    "    print('Fail to reject the null Hypothesis,which means There is no significant association between the type of smart home device purchased (Smart Thermostat vs. Smart Light) and the customer satisfaction level.')"
   ]
  },
  {
   "cell_type": "markdown",
   "id": "c15d5bed-cb6f-479b-acfb-0e6d93d6cc02",
   "metadata": {},
   "source": [
    "Inference: The customer satisfaction does not depend on the type of device purchased."
   ]
  },
  {
   "cell_type": "code",
   "execution_count": null,
   "id": "dd43367c-de0b-47a7-8417-21acc9f72ba6",
   "metadata": {},
   "outputs": [],
   "source": []
  }
 ],
 "metadata": {
  "kernelspec": {
   "display_name": "Python 3 (ipykernel)",
   "language": "python",
   "name": "python3"
  },
  "language_info": {
   "codemirror_mode": {
    "name": "ipython",
    "version": 3
   },
   "file_extension": ".py",
   "mimetype": "text/x-python",
   "name": "python",
   "nbconvert_exporter": "python",
   "pygments_lexer": "ipython3",
   "version": "3.12.4"
  }
 },
 "nbformat": 4,
 "nbformat_minor": 5
}
